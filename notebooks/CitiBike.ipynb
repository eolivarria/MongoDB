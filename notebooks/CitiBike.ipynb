{
 "cells": [
  {
   "cell_type": "code",
   "execution_count": 17,
   "metadata": {},
   "outputs": [
    {
     "name": "stdout",
     "output_type": "stream",
     "text": [
      "{'top end station': [{'_id': 279, 'count': 137}]}\n"
     ]
    }
   ],
   "source": [
    "import pymongo\n",
    "import pprint\n",
    "\n",
    "client = pymongo.MongoClient(uri)\n",
    "trips = client.citibike.trips\n",
    "\n",
    "# Citibike trips that start at station id 279 end most frequently at what station id?\n",
    "pipeline = [\n",
    "    { '$match': {'start station id': 279} },\n",
    "    { '$sortByCount': '$end station id'},\n",
    "    {\n",
    "    '$facet' : \n",
    "          {\n",
    "        'top end station' : [{'$limit' : 1}]\n",
    "          }\n",
    "    }\n",
    "    \n",
    "]\n",
    "\n",
    "\n",
    "for trip in trips.aggregate(pipeline):\n",
    "    pprint.pprint(trip)"
   ]
  },
  {
   "cell_type": "code",
   "execution_count": null,
   "metadata": {},
   "outputs": [],
   "source": []
  }
 ],
 "metadata": {
  "kernelspec": {
   "display_name": "Python 3",
   "language": "python",
   "name": "python3"
  },
  "language_info": {
   "codemirror_mode": {
    "name": "ipython",
    "version": 3
   },
   "file_extension": ".py",
   "mimetype": "text/x-python",
   "name": "python",
   "nbconvert_exporter": "python",
   "pygments_lexer": "ipython3",
   "version": "3.6.4"
  }
 },
 "nbformat": 4,
 "nbformat_minor": 2
}
