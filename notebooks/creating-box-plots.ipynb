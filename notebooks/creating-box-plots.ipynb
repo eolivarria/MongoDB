{
 "cells": [
  {
   "cell_type": "code",
   "execution_count": 15,
   "metadata": {
    "collapsed": true
   },
   "outputs": [],
   "source": [
    "import pymongo\n",
    "import matplotlib.pyplot as plt\n",
    "import dateparser\n",
    "import pprint"
   ]
  },
  {
   "cell_type": "code",
   "execution_count": 16,
   "metadata": {
    "collapsed": true
   },
   "outputs": [],
   "source": [
    "    "
   ]
  },
  {
   "cell_type": "code",
   "execution_count": 18,
   "metadata": {
    "collapsed": true
   },
   "outputs": [
    {
     "name": "stdout",
     "output_type": "stream",
     "text": [
      "{'_id': ObjectId('572bb8222b288919b68adfa5'),\n",
      " 'bikeid': 22820,\n",
      " 'birth year': '',\n",
      " 'end station id': 268,\n",
      " 'end station location': {'coordinates': [-73.99973337, 40.71910537],\n",
      "                          'type': 'Point'},\n",
      " 'end station name': 'Howard St & Centre St',\n",
      " 'gender': 0,\n",
      " 'start station id': 279,\n",
      " 'start station location': {'coordinates': [-74.00167, 40.707873],\n",
      "                            'type': 'Point'},\n",
      " 'start station name': 'Peck Slip & Front St',\n",
      " 'start time': datetime.datetime(2016, 1, 1, 17, 19, 38),\n",
      " 'stop time': datetime.datetime(2016, 1, 1, 17, 29, 42),\n",
      " 'tripduration': None,\n",
      " 'usertype': 'Customer'}\n"
     ]
    }
   ],
   "source": [
    "course_client = pymongo.MongoClient(course_cluster_uri)\n",
    "trips = course_client.citibike.trips\n",
    "pprint.pprint(trips.find_one())"
   ]
  },
  {
   "cell_type": "code",
   "execution_count": 58,
   "metadata": {
    "collapsed": true
   },
   "outputs": [],
   "source": [
    "cursor = trips.aggregate([\n",
    "  {\n",
    "    \"$match\": {\n",
    "      # filter the results to January 2016\n",
    "      \"start time\": {\n",
    "        \"$gte\": dateparser.parse(\"1/1/2016\"),\n",
    "        \"$lt\": dateparser.parse(\"2/1/2016\")\n",
    "      },\n",
    "      # filter to trips under an hour\n",
    "      \"tripduration\": {\n",
    "        \"$lt\": 3600\n",
    "      }\n",
    "    }\n",
    "  },\n",
    "  {\n",
    "    # sort by a bikeid so our results aren't chronological (so our limit of 2,500 aren't all on the same day)\n",
    "    \"$sort\": { \"bikeid\": 1 }\n",
    "  },\n",
    "  {\n",
    "    # limit to the first 2,500\n",
    "    \"$limit\": 2500\n",
    "  },\n",
    "  {\n",
    "    # convert start time to an integer representing the day of the week\n",
    "    \"$addFields\": { \"dayOfWeek\": { \"$dayOfWeek\": \"$start time\" } }\n",
    "  },\n",
    "  {\n",
    "    # group by the day of the week, pushing each trip into an array\n",
    "    \"$group\": { \"_id\": \"$dayOfWeek\", \"trips\": { \"$push\": \"$$ROOT\" } }\n",
    "  },\n",
    "  {\n",
    "    # sort our results by day of week, so it goes Sun, Mon, Tues, Wed, Thur, Fri, Sat\n",
    "    \"$sort\": { \"_id\": 1 }\n",
    "  }\n",
    "    \n",
    "]);"
   ]
  },
  {
   "cell_type": "code",
   "execution_count": 68,
   "metadata": {
    "collapsed": true
   },
   "outputs": [],
   "source": [
    "trips_by_day = [doc['trips'] for doc in cursor]"
   ]
  },
  {
   "cell_type": "code",
   "execution_count": 69,
   "metadata": {
    "collapsed": true
   },
   "outputs": [],
   "source": [
    "trip_durations_by_day = [[trip['tripduration'] / 60 for trip in trips] for trips in trips_by_day]"
   ]
  },
  {
   "cell_type": "code",
   "execution_count": 70,
   "metadata": {
    "collapsed": true,
    "scrolled": true
   },
   "outputs": [
    {
     "data": {
      "text/plain": [
       "<matplotlib.figure.Figure at 0x12d0e28d0>"
      ]
     },
     "metadata": {},
     "output_type": "display_data"
    },
    {
     "data": {
      "image/png": "[encoded data removed]",
      "text/plain": [
       "<matplotlib.figure.Figure at 0x12d0e2be0>"
      ]
     },
     "metadata": {},
     "output_type": "display_data"
    }
   ],
   "source": [
    "plt.clf()\n",
    "\n",
    "fig, ax = plt.subplots()\n",
    "\n",
    "ax.boxplot(trip_durations_by_day)\n",
    "\n",
    "ax.set_title('When People Get Bike Trip')\n",
    "ax.yaxis.grid(True)\n",
    "ax.set_xticklabels(['Sun', 'Mon', 'Tues', 'Wed', 'Thur', 'Fri', 'Sat'])\n",
    "ax.set_xlabel('Day of Week')\n",
    "ax.set_ylabel('Hour of Day')\n",
    "\n",
    "plt.show()"
   ]
  },
  {
   "cell_type": "code",
   "execution_count": null,
   "metadata": {},
   "outputs": [],
   "source": []
  }
 ],
 "metadata": {
  "kernelspec": {
   "display_name": "Python 3",
   "language": "python",
   "name": "python3"
  },
  "language_info": {
   "codemirror_mode": {
    "name": "ipython",
    "version": 3
   },
   "file_extension": ".py",
   "mimetype": "text/x-python",
   "name": "python",
   "nbconvert_exporter": "python",
   "pygments_lexer": "ipython3",
   "version": "3.6.4"
  }
 },
 "nbformat": 4,
 "nbformat_minor": 2
}
