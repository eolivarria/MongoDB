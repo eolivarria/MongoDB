{
 "cells": [
  {
   "cell_type": "code",
   "execution_count": 5,
   "metadata": {},
   "outputs": [
    {
     "name": "stdout",
     "output_type": "stream",
     "text": [
      "{'_id': ObjectId('59a47286cfa9a3a73e51e72c'),\n",
      " 'location': {'address': {'city': 'Bloomington',\n",
      "                          'state': 'MN',\n",
      "                          'street1': '340 W Market',\n",
      "                          'zipcode': '55425'},\n",
      "              'geo': {'coordinates': [-93.24565, 44.85466], 'type': 'Point'}},\n",
      " 'theaterId': 1000}\n"
     ]
    }
   ],
   "source": [
    "import pymongo\n",
    "from pymongo import MongoClient\n",
    "from IPython.display import clear_output\n",
    "import pprint\n",
    "\n",
    "mflix = client.mflix\n",
    "\n",
    "theaters = client.mflix.theaters\n",
    "theater = theaters.find_one({'theaterId': 1000})\n",
    "theater = theaters.find_one({})\n",
    "pprint.pprint(theater)"
   ]
  },
  {
   "cell_type": "code",
   "execution_count": 6,
   "metadata": {},
   "outputs": [
    {
     "name": "stdout",
     "output_type": "stream",
     "text": [
      "{'coordinates': [-93.24565, 44.85466], 'type': 'Point'}\n"
     ]
    }
   ],
   "source": [
    "pprint.pprint(theater['location']['geo'])"
   ]
  },
  {
   "cell_type": "code",
   "execution_count": 7,
   "metadata": {},
   "outputs": [
    {
     "name": "stdout",
     "output_type": "stream",
     "text": [
      "396.8049223699407\n"
     ]
    }
   ],
   "source": [
    "EARTH_RADIUS_MILES = 3963.2\n",
    "EARTH_RADIUS_KILOMETERS = 6378.1\n",
    "\n",
    "example_radius = 0.10012235627017076\n",
    "\n",
    "radius_in_miles = example_radius*EARTH_RADIUS_MILES\n",
    "\n",
    "pprint.pprint(radius_in_miles)"
   ]
  },
  {
   "cell_type": "code",
   "execution_count": 27,
   "metadata": {},
   "outputs": [],
   "source": [
    "query = {\n",
    "    \"location.geo\":{\n",
    "        \"$nearSphere\":{\n",
    "            \"$geometry\":{\n",
    "                \"type\": \"Point\",\n",
    "                \"coordinates\": [ -118.3658621952484, 33.89731726827783 ]},\n",
    "                \"$minDistance\": 0,\n",
    "            \"$maxDistance\": 1000\n",
    "        }}}"
   ]
  },
  {
   "cell_type": "code",
   "execution_count": 28,
   "metadata": {},
   "outputs": [
    {
     "name": "stdout",
     "output_type": "stream",
     "text": [
      "{'_id': ObjectId('59a47286cfa9a3a73e51e75c'),\n",
      " 'location': {'address': {'city': 'Hawthorne',\n",
      "                          'state': 'CA',\n",
      "                          'street1': '5000 W 147th St',\n",
      "                          'zipcode': '90250'},\n",
      "              'geo': {'coordinates': [-118.36559, 33.897167], 'type': 'Point'}},\n",
      " 'theaterId': 104}\n",
      "1\n"
     ]
    }
   ],
   "source": [
    "for theater in theaters.find(query):\n",
    "    pprint.pprint(theater)\n",
    "pprint.pprint(theaters.find(query).count())"
   ]
  },
  {
   "cell_type": "code",
   "execution_count": null,
   "metadata": {},
   "outputs": [],
   "source": []
  }
 ],
 "metadata": {
  "kernelspec": {
   "display_name": "Python 3",
   "language": "python",
   "name": "python3"
  },
  "language_info": {
   "codemirror_mode": {
    "name": "ipython",
    "version": 3
   },
   "file_extension": ".py",
   "mimetype": "text/x-python",
   "name": "python",
   "nbconvert_exporter": "python",
   "pygments_lexer": "ipython3",
   "version": "3.6.4"
  }
 },
 "nbformat": 4,
 "nbformat_minor": 2
}
