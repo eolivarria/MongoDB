{
 "cells": [
  {
   "cell_type": "code",
   "execution_count": 1,
   "metadata": {
    "collapsed": true
   },
   "outputs": [],
   "source": [
    "import pymongo\n",
    "import pprint"
   ]
  },
  {
   "cell_type": "code",
   "execution_count": 2,
   "metadata": {},
   "outputs": [],
   "source": [
    "free_tier_client = pymongo.MongoClient(XXXX)"
   ]
  },
  {
   "cell_type": "code",
   "execution_count": 3,
   "metadata": {
    "collapsed": true
   },
   "outputs": [],
   "source": [
    "people = free_tier_client.cleansing[\"people-raw\"]"
   ]
  },
  {
   "cell_type": "code",
   "execution_count": 4,
   "metadata": {
    "collapsed": true
   },
   "outputs": [],
   "source": [
    "def distilled_explain(explain_output):\n",
    "    return {\n",
    "        'executionTimeMillis': explain_output['executionStats']['executionTimeMillis'],\n",
    "        'totalDocsExamined'  : explain_output['executionStats']['totalDocsExamined'],\n",
    "        'nReturned'          : explain_output['executionStats']['nReturned']\n",
    "    }"
   ]
  },
  {
   "cell_type": "code",
   "execution_count": 5,
   "metadata": {
    "collapsed": true
   },
   "outputs": [],
   "source": [
    "query_1_stats = people.find({\n",
    "  \"address.state\": \"Nebraska\",\n",
    "  \"last_name\": \"Miller\",\n",
    "}).explain()\n",
    "\n",
    "query_2_stats = people.find({\n",
    "  \"first_name\": \"Harry\",\n",
    "  \"last_name\": \"Reed\"\n",
    "}).explain()"
   ]
  },
  {
   "cell_type": "code",
   "execution_count": 6,
   "metadata": {},
   "outputs": [
    {
     "name": "stdout",
     "output_type": "stream",
     "text": [
      "{'executionTimeMillis': 55, 'totalDocsExamined': 50474, 'nReturned': 6}\n",
      "{'executionTimeMillis': 24, 'totalDocsExamined': 50474, 'nReturned': 1}\n"
     ]
    }
   ],
   "source": [
    "print(distilled_explain(query_1_stats))\n",
    "print(distilled_explain(query_2_stats))"
   ]
  },
  {
   "cell_type": "code",
   "execution_count": 14,
   "metadata": {},
   "outputs": [
    {
     "data": {
      "text/plain": [
       "'last_name_1_first_name_1_address.state_-1'"
      ]
     },
     "execution_count": 14,
     "metadata": {},
     "output_type": "execute_result"
    }
   ],
   "source": [
    "people.create_index( [(\"last_name\", pymongo.ASCENDING), (\"first_name\", pymongo.ASCENDING), (\"address.state\", pymongo.DESCENDING)] )"
   ]
  },
  {
   "cell_type": "code",
   "execution_count": 15,
   "metadata": {
    "collapsed": true
   },
   "outputs": [],
   "source": [
    "query_1_stats = people.find({\n",
    "  \"address.state\": \"Nebraska\",\n",
    "  \"last_name\": \"Miller\",\n",
    "}).explain()\n",
    "\n",
    "query_2_stats = people.find({\n",
    "  \"first_name\": \"Harry\",\n",
    "  \"last_name\": \"Reed\"\n",
    "}).explain()"
   ]
  },
  {
   "cell_type": "code",
   "execution_count": 16,
   "metadata": {},
   "outputs": [
    {
     "name": "stdout",
     "output_type": "stream",
     "text": [
      "{'executionTimeMillis': 1, 'totalDocsExamined': 6, 'nReturned': 6}\n",
      "{'executionTimeMillis': 0, 'totalDocsExamined': 1, 'nReturned': 1}\n"
     ]
    }
   ],
   "source": [
    "print(distilled_explain(query_1_stats))\n",
    "print(distilled_explain(query_2_stats))"
   ]
  },
  {
   "cell_type": "code",
   "execution_count": null,
   "metadata": {},
   "outputs": [],
   "source": []
  }
 ],
 "metadata": {
  "kernelspec": {
   "display_name": "Python 3",
   "language": "python",
   "name": "python3"
  },
  "language_info": {
   "codemirror_mode": {
    "name": "ipython",
    "version": 3
   },
   "file_extension": ".py",
   "mimetype": "text/x-python",
   "name": "python",
   "nbconvert_exporter": "python",
   "pygments_lexer": "ipython3",
   "version": "3.6.4"
  }
 },
 "nbformat": 4,
 "nbformat_minor": 2
}
