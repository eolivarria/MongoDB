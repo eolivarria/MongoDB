{
 "cells": [
  {
   "cell_type": "code",
   "execution_count": 1,
   "metadata": {
    "scrolled": true
   },
   "outputs": [
    {
     "name": "stdout",
     "output_type": "stream",
     "text": [
      "{'_id_': {'key': [('_id', 1)], 'ns': 'mflix.movies', 'v': 2},\n",
      " 'genres_1_tomatoes.viewer.numReviews_-1': {'key': [('genres', 1),\n",
      "                                                    ('tomatoes.viewer.numReviews',\n",
      "                                                     -1)],\n",
      "                                            'ns': 'mflix.movies',\n",
      "                                            'v': 2},\n",
      " 'title_text_cast_text_directors_text': {'default_language': 'english',\n",
      "                                         'key': [('_fts', 'text'),\n",
      "                                                 ('_ftsx', 1)],\n",
      "                                         'language_override': 'language',\n",
      "                                         'ns': 'mflix.movies',\n",
      "                                         'textIndexVersion': 3,\n",
      "                                         'v': 2,\n",
      "                                         'weights': {'cast': 1,\n",
      "                                                     'directors': 1,\n",
      "                                                     'title': 1}},\n",
      " 'tomatoes.viewer.numReviews_-1': {'key': [('tomatoes.viewer.numReviews', -1)],\n",
      "                                   'ns': 'mflix.movies',\n",
      "                                   'v': 2}}\n"
     ]
    }
   ],
   "source": [
    "import pymongo\n",
    "from pymongo import MongoClient\n",
    "from IPython.display import clear_output\n",
    "import pprint\n",
    "\n",
    "mflix = client.mflix\n",
    "\n",
    "pprint.pprint(mflix.movies.index_information())\n"
   ]
  },
  {
   "cell_type": "code",
   "execution_count": 3,
   "metadata": {
    "scrolled": true
   },
   "outputs": [
    {
     "data": {
      "text/plain": [
       "{'executionStats': {'executionStages': {'advanced': 35519,\n",
       "   'alreadyHasObj': 0,\n",
       "   'docsExamined': 35519,\n",
       "   'executionTimeMillisEstimate': 183,\n",
       "   'inputStage': {'advanced': 35519,\n",
       "    'direction': 'forward',\n",
       "    'dupsDropped': 0,\n",
       "    'dupsTested': 0,\n",
       "    'executionTimeMillisEstimate': 10,\n",
       "    'indexBounds': {'tomatoes.viewer.numReviews': ['[inf.0, 10)']},\n",
       "    'indexName': 'tomatoes.viewer.numReviews_-1',\n",
       "    'indexVersion': 2,\n",
       "    'invalidates': 0,\n",
       "    'isEOF': 1,\n",
       "    'isMultiKey': False,\n",
       "    'isPartial': False,\n",
       "    'isSparse': False,\n",
       "    'isUnique': False,\n",
       "    'keyPattern': {'tomatoes.viewer.numReviews': -1},\n",
       "    'keysExamined': 35519,\n",
       "    'multiKeyPaths': {'tomatoes.viewer.numReviews': []},\n",
       "    'nReturned': 35519,\n",
       "    'needTime': 0,\n",
       "    'needYield': 0,\n",
       "    'restoreState': 278,\n",
       "    'saveState': 278,\n",
       "    'seeks': 1,\n",
       "    'seenInvalidated': 0,\n",
       "    'stage': 'IXSCAN',\n",
       "    'works': 35520},\n",
       "   'invalidates': 0,\n",
       "   'isEOF': 1,\n",
       "   'nReturned': 35519,\n",
       "   'needTime': 0,\n",
       "   'needYield': 0,\n",
       "   'restoreState': 278,\n",
       "   'saveState': 278,\n",
       "   'stage': 'FETCH',\n",
       "   'works': 35520},\n",
       "  'executionSuccess': True,\n",
       "  'executionTimeMillis': 189,\n",
       "  'nReturned': 35519,\n",
       "  'totalDocsExamined': 35519,\n",
       "  'totalKeysExamined': 35519},\n",
       " 'ok': 1.0,\n",
       " 'queryPlanner': {'indexFilterSet': False,\n",
       "  'namespace': 'mflix.movies',\n",
       "  'parsedQuery': {'tomatoes.viewer.numReviews': {'$gt': 10}},\n",
       "  'plannerVersion': 1,\n",
       "  'rejectedPlans': [],\n",
       "  'winningPlan': {'inputStage': {'direction': 'forward',\n",
       "    'indexBounds': {'tomatoes.viewer.numReviews': ['[inf.0, 10)']},\n",
       "    'indexName': 'tomatoes.viewer.numReviews_-1',\n",
       "    'indexVersion': 2,\n",
       "    'isMultiKey': False,\n",
       "    'isPartial': False,\n",
       "    'isSparse': False,\n",
       "    'isUnique': False,\n",
       "    'keyPattern': {'tomatoes.viewer.numReviews': -1},\n",
       "    'multiKeyPaths': {'tomatoes.viewer.numReviews': []},\n",
       "    'stage': 'IXSCAN'},\n",
       "   'stage': 'FETCH'}},\n",
       " 'serverInfo': {'gitVersion': 'fbdef2ccc53e0fcc9afb570063633d992b2aae42',\n",
       "  'host': 'mflix-shard-00-00-bjmsb.mongodb.net',\n",
       "  'port': 27017,\n",
       "  'version': '3.4.13'}}"
      ]
     },
     "execution_count": 3,
     "metadata": {},
     "output_type": "execute_result"
    }
   ],
   "source": [
    "explain = {\n",
    "    \"explain\": {\n",
    "        \"find\": \"movies\", #what collection\n",
    "        \"filter\": {\"tomatoes.viewer.numReviews\": {\"$gt\": 10}},},\n",
    "        \"verbosity\": \"executionStats\"       \n",
    "}\n",
    "\n",
    "mflix.command(explain)"
   ]
  },
  {
   "cell_type": "code",
   "execution_count": 12,
   "metadata": {
    "scrolled": true
   },
   "outputs": [
    {
     "name": "stdout",
     "output_type": "stream",
     "text": [
      "'Titanic'\n",
      "'Titanic'\n",
      "'Titanic'\n"
     ]
    }
   ],
   "source": [
    "filters = {'title':\"Titanic\"}\n",
    "\n",
    "titanic = mflix.movies.find_one(filters)\n",
    "#pprint.pprint(titanic)\n",
    "movies = mflix.movies.find(filters)\n",
    "\n",
    "for m in movies:\n",
    "    pprint.pprint(m['title'])"
   ]
  },
  {
   "cell_type": "code",
   "execution_count": 17,
   "metadata": {},
   "outputs": [
    {
     "name": "stdout",
     "output_type": "stream",
     "text": [
      "(\"Title: Ray Harryhausen: Special Effects Titan Cast: ['Ray Harryhausen', \"\n",
      " \"'Peter Jackson', 'James Cameron', 'John Landis'] Directors:['Gilles Penso']\")\n",
      "'---------'\n",
      "(\"Title: Titanic: The Final Word with James Cameron Cast: ['James Cameron', \"\n",
      " \"'Ken Marschall', 'Paul-Henri Nargeolet', 'Bill Sauder'] Directors:['Tony \"\n",
      " \"Gerber']\")\n",
      "'---------'\n",
      "(\"Title: Attack on Titan: End of the World Cast: ['Kiko Mizuhara', 'Kanata \"\n",
      " \"Hong�', 'Nanami Sakuraba', 'Ayame Misaki'] Directors:['Shinji Higuchi']\")\n",
      "'---------'\n",
      "(\"Title: Raise the Titanic Cast: ['Jason Robards', 'Richard Jordan', 'David \"\n",
      " \"Selby', 'Anne Archer'] Directors:['Jerry Jameson']\")\n",
      "'---------'\n",
      "(\"Title: Titan A.E. Cast: ['Matt Damon', 'Bill Pullman', 'John Leguizamo', \"\n",
      " \"'Nathan Lane'] Directors:['Don Bluth', 'Gary Goldman', 'Art Vitello']\")\n",
      "'---------'\n",
      "(\"Title: Teen Titans: Trouble in Tokyo Cast: ['Greg Cipes', 'Scott Menville', \"\n",
      " \"'Khary Payton', 'Tara Strong'] Directors:['Michael Chang', 'Ben Jones', \"\n",
      " \"'Matt Youngberg']\")\n",
      "'---------'\n",
      "\"Title: Drain the Titanic Cast: ['Brad Cartner'] Directors:\"\n",
      "'---------'\n",
      "(\"Title: The Chambermaid on the Titanic Cast: ['Olivier Martinez', 'Romane \"\n",
      " \"Bohringer', 'Aitana S�nchez-Gij�n', 'Didier Bezace'] Directors:['Bigas \"\n",
      " \"Luna']\")\n",
      "'---------'\n",
      "(\"Title: Titanic Cast: ['Clifton Webb', 'Barbara Stanwyck', 'Robert Wagner', \"\n",
      " \"'Audrey Dalton'] Directors:['Jean Negulesco']\")\n",
      "'---------'\n",
      "(\"Title: Attack on Titan Cast: ['Haruma Miura', 'Kiko Mizuhara', 'Kanata \"\n",
      " \"Hong�', 'Satomi Ishihara'] Directors:['Shinji Higuchi']\")\n",
      "'---------'\n",
      "(\"Title: Attack on Titan Crimson Bow and Arrow Cast: ['Yuki Kaji', 'Yui \"\n",
      " \"Ishikawa', 'Marina Inoue', 'Kish� Taniyama'] Directors:['Tetsuro Araki']\")\n",
      "'---------'\n",
      "(\"Title: Remember the Titans Cast: ['Denzel Washington', 'Will Patton', 'Wood \"\n",
      " \"Harris', 'Ryan Hurst'] Directors:['Boaz Yakin']\")\n",
      "'---------'\n",
      "(\"Title: Titanic Cast: ['Leonardo DiCaprio', 'Kate Winslet', 'Billy Zane', \"\n",
      " \"'Kathy Bates'] Directors:['James Cameron']\")\n",
      "'---------'\n",
      "(\"Title: Deathstalker IV: Match of Titans Cast: ['Rick Hill', 'Maria Ford', \"\n",
      " \"'Brett Baxter Clark', 'Michelle Moffett'] Directors:['Howard R. Cohen']\")\n",
      "'---------'\n",
      "(\"Title: The Ten Lives of Titanic the Cat Cast: ['Edvard L�vold Gaukstad', \"\n",
      " \"'Yngve Berven', 'Ulla Marie Broch', 'Inger Dietrichs'] Directors:['Grethe \"\n",
      " \"B�e']\")\n",
      "'---------'\n",
      "(\"Title: Titanic Cast: ['Peter Gallagher', 'George C. Scott', 'Catherine \"\n",
      " \"Zeta-Jones', 'Eva Marie Saint'] Directors:\")\n",
      "'---------'\n",
      "(\"Title: Wrath of the Titans Cast: ['Sam Worthington', 'Liam Neeson', 'Ralph \"\n",
      " \"Fiennes', '�dgar Ram�rez'] Directors:['Jonathan Liebesman']\")\n",
      "'---------'\n",
      "('Title: Titanic Town Cast: [\\'Julie Walters\\', \\'Ciar�n Hinds\\', \"Nuala '\n",
      " 'O\\'Neill\", \\'James Loughran\\'] Directors:[\\'Roger Michell\\']')\n",
      "'---------'\n",
      "(\"Title: Titanic II Cast: ['Shane Van Dyke', 'Marie Westbrook', 'Bruce \"\n",
      " \"Davison', 'Brooke Burns'] Directors:['Shane Van Dyke']\")\n",
      "'---------'\n",
      "(\"Title: Titanic at 100: Mystery Solved Cast: ['Jonathan Adams', 'Christopher \"\n",
      " \"Davino', 'James P. Delgado', 'David Gallo'] Directors:['Tony Bacon', \"\n",
      " \"'Rushmore DeNooyer']\")\n",
      "'---------'\n",
      "(\"Title: Clash of the Titans Cast: ['Laurence Olivier', 'Claire Bloom', \"\n",
      " \"'Maggie Smith', 'Ursula Andress'] Directors:['Desmond Davis']\")\n",
      "'---------'\n",
      "(\"Title: Clash of the Titans Cast: ['Sam Worthington', 'Liam Neeson', 'Ralph \"\n",
      " \"Fiennes', 'Jason Flemyng'] Directors:['Louis Leterrier']\")\n",
      "'---------'\n"
     ]
    }
   ],
   "source": [
    "filters = {\n",
    "    \"$text\":{\n",
    "    \"$search\": \"titanic\"\n",
    "}}\n",
    "\n",
    "\n",
    "for m in mflix.movies.find(filters):\n",
    "    pprint.pprint(\"Title: {0} Cast: {1} Directors:{2}\".format(m['title'], m['cast'], m.get('directors', \"\")))\n",
    "    pprint.pprint('---------')"
   ]
  },
  {
   "cell_type": "code",
   "execution_count": 18,
   "metadata": {},
   "outputs": [
    {
     "data": {
      "text/plain": [
       "'countries_1'"
      ]
     },
     "execution_count": 18,
     "metadata": {},
     "output_type": "execute_result"
    }
   ],
   "source": [
    "mflix.movies.create_index([(\"countries\", pymongo.ASCENDING)])"
   ]
  },
  {
   "cell_type": "code",
   "execution_count": null,
   "metadata": {},
   "outputs": [],
   "source": []
  }
 ],
 "metadata": {
  "kernelspec": {
   "display_name": "Python 3",
   "language": "python",
   "name": "python3"
  },
  "language_info": {
   "codemirror_mode": {
    "name": "ipython",
    "version": 3
   },
   "file_extension": ".py",
   "mimetype": "text/x-python",
   "name": "python",
   "nbconvert_exporter": "python",
   "pygments_lexer": "ipython3",
   "version": "3.6.4"
  }
 },
 "nbformat": 4,
 "nbformat_minor": 2
}
