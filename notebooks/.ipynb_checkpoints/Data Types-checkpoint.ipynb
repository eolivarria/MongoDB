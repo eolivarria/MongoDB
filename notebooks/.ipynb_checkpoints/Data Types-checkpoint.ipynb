{
 "cells": [
  {
   "cell_type": "code",
   "execution_count": 13,
   "metadata": {
    "scrolled": true
   },
   "outputs": [
    {
     "name": "stdout",
     "output_type": "stream",
     "text": [
      "ObjectId('5ab1697e4e443d2b5ca33cb7')\n"
     ]
    },
    {
     "data": {
      "text/plain": [
       "{'_id': ObjectId('5ab1697e4e443d2b5ca33cb7'),\n",
       " 'cast': ['Carmencita'],\n",
       " 'countries': ['USA'],\n",
       " 'directors': ['William K.L. Dickson'],\n",
       " 'fullPlot': 'Performing on what looks like a small wooden stage, wearing a dress with a hoop skirt and white high-heeled pumps, Carmencita does a dance with kicks and twirls, a smile always on her face.',\n",
       " 'genres': ['Documentary', 'Short'],\n",
       " 'imdb': {'id': 1, 'rating': 5.9, 'votes': 1032},\n",
       " 'lastupdated': '2015-08-26 00:03:45.040000000',\n",
       " 'plot': 'Performing on what looks like a small wooden stage, wearing a dress with a hoop skirt and white high-heeled pumps, Carmencita does a dance with kicks and twirls, a smile always on her face.',\n",
       " 'poster': 'http://ia.media-imdb.com/images/M/MV5BMjAzNDEwMzk3OV5BMl5BanBnXkFtZTcwOTk4OTM5Ng@@._V1_SX300.jpg',\n",
       " 'rated': 'NOT RATED',\n",
       " 'runtime': 1,\n",
       " 'title': 'Carmencita',\n",
       " 'type': 'movie',\n",
       " 'year': 1894}"
      ]
     },
     "execution_count": 13,
     "metadata": {},
     "output_type": "execute_result"
    }
   ],
   "source": [
    "import pymongo\n",
    "import pprint\n",
    "from datetime import datetime\n",
    "\n",
    "course_client = pymongo.MongoClient(course_cluster_uri)\n",
    "\n",
    "movies = course_client['mflix']['movies']\n",
    "movie = movies.find_one()\n",
    "\n",
    "#movie('_id')\n",
    "pprint.pprint(movie['_id'])\n",
    "\n",
    "from datetime import datetime\n",
    "dates = course_client['test']['dates']\n",
    "\n",
    "#dates.insert_one({ \"dt\": datetime.utcnow() })\n",
    "dates.find_one()\n",
    "\n",
    "from bson.decimal128 import Decimal128\n",
    "decimals = course_client['test']['decimals']\n",
    "decimals.insert_one({ \"money\": Decimal128(\"99.99\") })\n",
    "decimals.find_one()\n",
    "movies.find_one({ \"year\": { \"$type\": \"int\" }})"
   ]
  },
  {
   "cell_type": "code",
   "execution_count": null,
   "metadata": {},
   "outputs": [],
   "source": []
  }
 ],
 "metadata": {
  "kernelspec": {
   "display_name": "Python 3",
   "language": "python",
   "name": "python3"
  },
  "language_info": {
   "codemirror_mode": {
    "name": "ipython",
    "version": 3
   },
   "file_extension": ".py",
   "mimetype": "text/x-python",
   "name": "python",
   "nbconvert_exporter": "python",
   "pygments_lexer": "ipython3",
   "version": "3.6.4"
  }
 },
 "nbformat": 4,
 "nbformat_minor": 2
}
