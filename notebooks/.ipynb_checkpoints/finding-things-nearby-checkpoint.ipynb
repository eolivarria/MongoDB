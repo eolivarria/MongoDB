{
 "cells": [
  {
   "cell_type": "code",
   "execution_count": 1,
   "metadata": {},
   "outputs": [],
   "source": [
    "import pymongo\n",
    "import pprint"
   ]
  },
  {
   "cell_type": "code",
   "execution_count": 2,
   "metadata": {
    "collapsed": true
   },
   "outputs": [],
   "source": [
    "    "
   ]
  },
  {
   "cell_type": "code",
   "execution_count": 8,
   "metadata": {
    "collapsed": true
   },
   "outputs": [
    {
     "name": "stdout",
     "output_type": "stream",
     "text": [
      "{'_id': ObjectId('572bb8222b288919b68adfa5'),\n",
      " 'bikeid': 22820,\n",
      " 'birth year': '',\n",
      " 'end station id': 268,\n",
      " 'end station location': {'coordinates': [-73.99973337, 40.71910537],\n",
      "                          'type': 'Point'},\n",
      " 'end station name': 'Howard St & Centre St',\n",
      " 'gender': 0,\n",
      " 'start station id': 279,\n",
      " 'start station location': {'coordinates': [-74.00167, 40.707873],\n",
      "                            'type': 'Point'},\n",
      " 'start station name': 'Peck Slip & Front St',\n",
      " 'start time': datetime.datetime(2016, 1, 1, 17, 19, 38),\n",
      " 'stop time': datetime.datetime(2016, 1, 1, 17, 29, 42),\n",
      " 'tripduration': None,\n",
      " 'usertype': 'Customer'}\n"
     ]
    }
   ],
   "source": [
    "course_client = pymongo.MongoClient(course_cluster_uri)\n",
    "trips = course_client.citibike.trips\n",
    "\n",
    "trip = trips.find_one({})\n",
    "pprint.pprint(trip)"
   ]
  },
  {
   "cell_type": "code",
   "execution_count": 28,
   "metadata": {
    "collapsed": true
   },
   "outputs": [
    {
     "name": "stdout",
     "output_type": "stream",
     "text": [
      "{'coordinates': [-74.00167, 40.707873], 'type': 'Point'}\n"
     ]
    }
   ],
   "source": [
    "pprint.pprint(trip['start station location'])\n",
    "\n",
    "query = {\n",
    "    \"start station location\":{\n",
    "        \"$nearSphere\":{\n",
    "            \"$geometry\":{\n",
    "                \"type\": \"Point\",\n",
    "                \"coordinates\": [ 40.75741088433861, -73.98782093364191 ]},\n",
    "                \"$minDistance\": 0,\n",
    "                \"$maxDistance\": 16000\n",
    "        }}}\n",
    "\n",
    "query2 = {\n",
    "    \"start station location\":{\n",
    "        \"$geoWithin\":{\n",
    "            \"$centerSphere\":[[ 40.75741088433861, -73.98782093364191 ], 10 ]\n",
    "        }}}\n"
   ]
  },
  {
   "cell_type": "code",
   "execution_count": 29,
   "metadata": {},
   "outputs": [
    {
     "data": {
      "text/plain": [
       "0"
      ]
     },
     "execution_count": 29,
     "metadata": {},
     "output_type": "execute_result"
    }
   ],
   "source": [
    "trips.find(query).count()"
   ]
  },
  {
   "cell_type": "code",
   "execution_count": null,
   "metadata": {},
   "outputs": [],
   "source": []
  }
 ],
 "metadata": {
  "kernelspec": {
   "display_name": "Python 3",
   "language": "python",
   "name": "python3"
  },
  "language_info": {
   "codemirror_mode": {
    "name": "ipython",
    "version": 3
   },
   "file_extension": ".py",
   "mimetype": "text/x-python",
   "name": "python",
   "nbconvert_exporter": "python",
   "pygments_lexer": "ipython3",
   "version": "3.6.4"
  }
 },
 "nbformat": 4,
 "nbformat_minor": 2
}
